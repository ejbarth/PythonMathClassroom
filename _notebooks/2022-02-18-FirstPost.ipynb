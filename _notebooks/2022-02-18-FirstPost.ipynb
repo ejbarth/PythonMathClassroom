{
 "cells": [
  {
   "cell_type": "markdown",
   "id": "1492d25d",
   "metadata": {},
   "source": [
    "# First post!"
   ]
  },
  {
   "cell_type": "markdown",
   "id": "511fab8e",
   "metadata": {},
   "source": [
    "A big part of the workflow students in my python-based mathematics classes is to create clear, beautiful documents with Jupyter.  For that reason, I'll use Jupyter to generate all the content in PythonMathClassroom.  \n",
    "\n",
    "The decision to host the blog from githup fastpages came down to the ease with which Jupyter content can go up on that platform without any intermediate fuss.\n",
    "\n",
    "The first post ought to have some python mathematics, so here we go:"
   ]
  },
  {
   "cell_type": "code",
   "execution_count": 3,
   "id": "c8a47678",
   "metadata": {},
   "outputs": [
    {
     "data": {
      "text/latex": [
       "$\\displaystyle \\left(x^{2} - 2 x + 2\\right) e^{x}$"
      ],
      "text/plain": [
       "(x**2 - 2*x + 2)*exp(x)"
      ]
     },
     "execution_count": 3,
     "metadata": {},
     "output_type": "execute_result"
    }
   ],
   "source": [
    "from sympy import *\n",
    "x, y = symbols(\"x y\")\n",
    "\n",
    "integrate(x**2*exp(x),x)\n"
   ]
  },
  {
   "cell_type": "code",
   "execution_count": 4,
   "id": "9a3c7bd4",
   "metadata": {},
   "outputs": [
    {
     "data": {
      "text/latex": [
       "$\\displaystyle x^{2} e^{x} + 2 x e^{x}$"
      ],
      "text/plain": [
       "x**2*exp(x) + 2*x*exp(x)"
      ]
     },
     "execution_count": 4,
     "metadata": {},
     "output_type": "execute_result"
    }
   ],
   "source": [
    "diff(x**2*exp(x),x)"
   ]
  },
  {
   "cell_type": "code",
   "execution_count": 6,
   "id": "e8851de5",
   "metadata": {},
   "outputs": [
    {
     "data": {
      "text/plain": [
       "[-1/2 - sqrt(3)*I/2, -1/2 + sqrt(3)*I/2]"
      ]
     },
     "execution_count": 6,
     "metadata": {},
     "output_type": "execute_result"
    }
   ],
   "source": [
    "solve(x**2 + x +1 ,x)"
   ]
  },
  {
   "cell_type": "code",
   "execution_count": null,
   "id": "fdbaad39",
   "metadata": {},
   "outputs": [],
   "source": []
  }
 ],
 "metadata": {
  "kernelspec": {
   "display_name": "Python 3 (ipykernel)",
   "language": "python",
   "name": "python3"
  },
  "language_info": {
   "codemirror_mode": {
    "name": "ipython",
    "version": 3
   },
   "file_extension": ".py",
   "mimetype": "text/x-python",
   "name": "python",
   "nbconvert_exporter": "python",
   "pygments_lexer": "ipython3",
   "version": "3.10.2"
  }
 },
 "nbformat": 4,
 "nbformat_minor": 5
}
