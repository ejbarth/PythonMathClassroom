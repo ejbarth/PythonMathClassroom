{
 "cells": [
  {
   "cell_type": "markdown",
   "id": "15df3ce9",
   "metadata": {},
   "source": [
    "# sympy Laplace Transforms for solving linear ODEs\n",
    "> I have found that the Laplace transform  utility in sympy doesn't do what we need for solving linear ODEs.  We've made some needed improvements and included the code in the MATH280 package\n",
    "\n",
    "- toc: true"
   ]
  },
  {
   "cell_type": "markdown",
   "id": "926d412c",
   "metadata": {},
   "source": [
    "In our workflow, we assume sympy as the default, and load the custom-made content from [MATH280 Package](https://github.com/ejbarth/MATH280)."
   ]
  },
  {
   "cell_type": "code",
   "execution_count": 1,
   "id": "efa466b8",
   "metadata": {},
   "outputs": [
    {
     "name": "stdout",
     "output_type": "stream",
     "text": [
      "MATH280\n"
     ]
    }
   ],
   "source": [
    "from sympy import *\n",
    "import MATH280\n",
    "\n",
    "x = Function(\"x\")\n",
    "t,s = symbols(\"t s\",real=True,  nonnegative=true )"
   ]
  },
  {
   "cell_type": "markdown",
   "id": "3abc1d97",
   "metadata": {},
   "source": [
    "A famously intense pen-and-paper technique from elementary ODEs class:  Laplace Transforms.\n",
    "Sympy has Laplace capabilities built-in, but with maddening shortcomings.\n",
    "\n",
    "Let's work with a 2nd order, linear, constant-coefficient, nonhomogeous IVP:\n",
    "$$ \\ddot{x}+3\\dot{x}+4x = \\sin(2t), \\;\\;\\;\\;\\;\\; x(0)=1, \\dot{x}(0)=0$$"
   ]
  },
  {
   "cell_type": "code",
   "execution_count": 2,
   "id": "cc35c8c4",
   "metadata": {},
   "outputs": [
    {
     "data": {
      "text/latex": [
       "$\\displaystyle 4 x{\\left(t \\right)} + 3 \\frac{d}{d t} x{\\left(t \\right)} + \\frac{d^{2}}{d t^{2}} x{\\left(t \\right)} = \\sin{\\left(2 t \\right)}$"
      ],
      "text/plain": [
       "Eq(4*x(t) + 3*Derivative(x(t), t) + Derivative(x(t), (t, 2)), sin(2*t))"
      ]
     },
     "execution_count": 2,
     "metadata": {},
     "output_type": "execute_result"
    }
   ],
   "source": [
    "ode = Eq(x(t).diff(t,2)+3*x(t).diff(t)+4*x(t) , sin(2*t) )\n",
    "ode"
   ]
  },
  {
   "cell_type": "markdown",
   "id": "d41c066e",
   "metadata": {},
   "source": [
    "## laplace_transform() in sympy"
   ]
  },
  {
   "cell_type": "markdown",
   "id": "8243804e",
   "metadata": {},
   "source": [
    "First let's see how the built-in sympy `laplace_transform()` handles that equation: "
   ]
  },
  {
   "cell_type": "code",
   "execution_count": 3,
   "id": "88ca14b7",
   "metadata": {},
   "outputs": [
    {
     "ename": "AttributeError",
     "evalue": "'Equality' object has no attribute 'as_coeff_mul'",
     "output_type": "error",
     "traceback": [
      "\u001b[1;31m---------------------------------------------------------------------------\u001b[0m",
      "\u001b[1;31mAttributeError\u001b[0m                            Traceback (most recent call last)",
      "Input \u001b[1;32mIn [3]\u001b[0m, in \u001b[0;36m<module>\u001b[1;34m\u001b[0m\n\u001b[1;32m----> 1\u001b[0m \u001b[43mlaplace_transform\u001b[49m\u001b[43m(\u001b[49m\u001b[43mode\u001b[49m\u001b[43m,\u001b[49m\u001b[43mt\u001b[49m\u001b[43m,\u001b[49m\u001b[43ms\u001b[49m\u001b[43m)\u001b[49m\n",
      "File \u001b[1;32m~\\AppData\\Local\\Programs\\Python\\Python310\\lib\\site-packages\\sympy\\integrals\\transforms.py:1256\u001b[0m, in \u001b[0;36mlaplace_transform\u001b[1;34m(f, t, s, legacy_matrix, **hints)\u001b[0m\n\u001b[0;32m   1253\u001b[0m         \u001b[38;5;28;01melse\u001b[39;00m:\n\u001b[0;32m   1254\u001b[0m             \u001b[38;5;28;01mreturn\u001b[39;00m \u001b[38;5;28mtype\u001b[39m(f)(\u001b[38;5;241m*\u001b[39mf\u001b[38;5;241m.\u001b[39mshape, elements_trans)\n\u001b[1;32m-> 1256\u001b[0m \u001b[38;5;28;01mreturn\u001b[39;00m LaplaceTransform(f, t, s)\u001b[38;5;241m.\u001b[39mdoit(\u001b[38;5;241m*\u001b[39m\u001b[38;5;241m*\u001b[39mhints)\n",
      "File \u001b[1;32m~\\AppData\\Local\\Programs\\Python\\Python310\\lib\\site-packages\\sympy\\integrals\\transforms.py:180\u001b[0m, in \u001b[0;36mIntegralTransform.doit\u001b[1;34m(self, **hints)\u001b[0m\n\u001b[0;32m    174\u001b[0m     \u001b[38;5;28;01mraise\u001b[39;00m IntegralTransformError(\n\u001b[0;32m    175\u001b[0m         \u001b[38;5;28mself\u001b[39m\u001b[38;5;241m.\u001b[39m\u001b[38;5;18m__class__\u001b[39m\u001b[38;5;241m.\u001b[39m_name, \u001b[38;5;28mself\u001b[39m\u001b[38;5;241m.\u001b[39mfunction, \u001b[38;5;124m'\u001b[39m\u001b[38;5;124mneedeval\u001b[39m\u001b[38;5;124m'\u001b[39m)\n\u001b[0;32m    177\u001b[0m \u001b[38;5;66;03m# TODO handle derivatives etc\u001b[39;00m\n\u001b[0;32m    178\u001b[0m \n\u001b[0;32m    179\u001b[0m \u001b[38;5;66;03m# pull out constant coefficients\u001b[39;00m\n\u001b[1;32m--> 180\u001b[0m coeff, rest \u001b[38;5;241m=\u001b[39m \u001b[43mfn\u001b[49m\u001b[38;5;241;43m.\u001b[39;49m\u001b[43mas_coeff_mul\u001b[49m(\u001b[38;5;28mself\u001b[39m\u001b[38;5;241m.\u001b[39mfunction_variable)\n\u001b[0;32m    181\u001b[0m \u001b[38;5;28;01mreturn\u001b[39;00m coeff\u001b[38;5;241m*\u001b[39m\u001b[38;5;28mself\u001b[39m\u001b[38;5;241m.\u001b[39m\u001b[38;5;18m__class__\u001b[39m(\u001b[38;5;241m*\u001b[39m([Mul(\u001b[38;5;241m*\u001b[39mrest)] \u001b[38;5;241m+\u001b[39m \u001b[38;5;28mlist\u001b[39m(\u001b[38;5;28mself\u001b[39m\u001b[38;5;241m.\u001b[39margs[\u001b[38;5;241m1\u001b[39m:])))\n",
      "\u001b[1;31mAttributeError\u001b[0m: 'Equality' object has no attribute 'as_coeff_mul'"
     ]
    }
   ],
   "source": [
    "laplace_transform(ode,t,s)"
   ]
  },
  {
   "cell_type": "markdown",
   "id": "85b72cc8",
   "metadata": {},
   "source": [
    "Look at that!  **'Equality' object has no attribute**.  `laplace_transform()` would prefer that we assume the expression we enter is equal to 0:"
   ]
  },
  {
   "cell_type": "code",
   "execution_count": 4,
   "id": "6b5e6ea0",
   "metadata": {},
   "outputs": [
    {
     "data": {
      "text/plain": [
       "(4*LaplaceTransform(x(t), t, s) + 3*LaplaceTransform(Derivative(x(t), t), t, s) + LaplaceTransform(Derivative(x(t), (t, 2)), t, s) - 2/(s**2 + 4),\n",
       " 0,\n",
       " True)"
      ]
     },
     "execution_count": 4,
     "metadata": {},
     "output_type": "execute_result"
    }
   ],
   "source": [
    "Lx=laplace_transform(x(t).diff(t,2)+3*x(t).diff(t)+4*x(t) - sin(2*t),t,s)\n",
    "Lx"
   ]
  },
  {
   "cell_type": "markdown",
   "id": "eae96860",
   "metadata": {},
   "source": [
    "We see the output above is a tuple that includes some conditional statements at the end.  To hide that and see just the transform itself, use the option `noconds=True`"
   ]
  },
  {
   "cell_type": "code",
   "execution_count": 5,
   "id": "922a4671",
   "metadata": {},
   "outputs": [
    {
     "data": {
      "text/latex": [
       "$\\displaystyle 4 \\mathcal{L}_{t}\\left[x{\\left(t \\right)}\\right]\\left(s\\right) + 3 \\mathcal{L}_{t}\\left[\\frac{d}{d t} x{\\left(t \\right)}\\right]\\left(s\\right) + \\mathcal{L}_{t}\\left[\\frac{d^{2}}{d t^{2}} x{\\left(t \\right)}\\right]\\left(s\\right) - \\frac{2}{s^{2} + 4}$"
      ],
      "text/plain": [
       "4*LaplaceTransform(x(t), t, s) + 3*LaplaceTransform(Derivative(x(t), t), t, s) + LaplaceTransform(Derivative(x(t), (t, 2)), t, s) - 2/(s**2 + 4)"
      ]
     },
     "execution_count": 5,
     "metadata": {},
     "output_type": "execute_result"
    }
   ],
   "source": [
    "Lx=laplace_transform(x(t).diff(t,2)+3*x(t).diff(t)+4*x(t) - sin(2*t),t,s,noconds=True)\n",
    "Lx"
   ]
  },
  {
   "cell_type": "markdown",
   "id": "8ade526d",
   "metadata": {},
   "source": [
    "### Laplace Transform and Derivatives"
   ]
  },
  {
   "cell_type": "markdown",
   "id": "e638e39c",
   "metadata": {},
   "source": [
    "Notice in that output another hassle:  `laplace_transform()` ignores the single most useful property of the Laplace Transform:\n",
    "$$ {\\cal L}\\{x'(t)\\} = s{\\cal L}\\{x(t)\\} - x(0), \\mbox{ and } {\\cal L}\\{x''(t)\\} = s^2{\\cal L}\\{x(t)\\} - sx(0)- x'(0).$$"
   ]
  },
  {
   "cell_type": "markdown",
   "id": "4db092e0",
   "metadata": {},
   "source": [
    "## laplace() in MATH280"
   ]
  },
  {
   "cell_type": "markdown",
   "id": "e4d7768a",
   "metadata": {},
   "source": [
    "We've reworked that and included an alternative `laplace{}` in the [MATH280 Module](https://github.com/ejbarth/MATH280).  "
   ]
  },
  {
   "cell_type": "markdown",
   "id": "7c1bf142",
   "metadata": {},
   "source": [
    "### Solving an equation with Laplace Transforms in four steps:"
   ]
  },
  {
   "cell_type": "markdown",
   "id": "dde861ed",
   "metadata": {},
   "source": [
    "#### 1. take the transform of everything"
   ]
  },
  {
   "cell_type": "code",
   "execution_count": 6,
   "id": "5fdd44ff",
   "metadata": {
    "scrolled": false
   },
   "outputs": [
    {
     "data": {
      "text/latex": [
       "$\\displaystyle s^{2} \\mathcal{L}_{t}\\left[x{\\left(t \\right)}\\right]\\left(s\\right) + 3 s \\mathcal{L}_{t}\\left[x{\\left(t \\right)}\\right]\\left(s\\right) - s x{\\left(0 \\right)} + 4 \\mathcal{L}_{t}\\left[x{\\left(t \\right)}\\right]\\left(s\\right) - 3 x{\\left(0 \\right)} - \\left. \\frac{d}{d t} x{\\left(t \\right)} \\right|_{\\substack{ t=0 }} = \\frac{2}{s^{2} + 4}$"
      ],
      "text/plain": [
       "Eq(s**2*LaplaceTransform(x(t), t, s) + 3*s*LaplaceTransform(x(t), t, s) - s*x(0) + 4*LaplaceTransform(x(t), t, s) - 3*x(0) - Subs(Derivative(x(t), t), t, 0), 2/(s**2 + 4))"
      ]
     },
     "execution_count": 6,
     "metadata": {},
     "output_type": "execute_result"
    }
   ],
   "source": [
    "L = MATH280.laplace(ode,t,s)\n",
    "L"
   ]
  },
  {
   "cell_type": "markdown",
   "id": "1e50ea7e",
   "metadata": {},
   "source": [
    "#### 2. plug in the initial conditions"
   ]
  },
  {
   "cell_type": "markdown",
   "id": "3c15ab56",
   "metadata": {},
   "source": [
    "The second step in solving the equation is to plug in the initial conditions:"
   ]
  },
  {
   "cell_type": "code",
   "execution_count": 7,
   "id": "f4583347",
   "metadata": {},
   "outputs": [
    {
     "data": {
      "text/latex": [
       "$\\displaystyle s^{2} \\mathcal{L}_{t}\\left[x{\\left(t \\right)}\\right]\\left(s\\right) + 3 s \\mathcal{L}_{t}\\left[x{\\left(t \\right)}\\right]\\left(s\\right) - s + 4 \\mathcal{L}_{t}\\left[x{\\left(t \\right)}\\right]\\left(s\\right) - 3 = \\frac{2}{s^{2} + 4}$"
      ],
      "text/plain": [
       "Eq(s**2*LaplaceTransform(x(t), t, s) + 3*s*LaplaceTransform(x(t), t, s) - s + 4*LaplaceTransform(x(t), t, s) - 3, 2/(s**2 + 4))"
      ]
     },
     "execution_count": 7,
     "metadata": {},
     "output_type": "execute_result"
    }
   ],
   "source": [
    "L0=L.subs(x(0),1).subs(Subs(Derivative(x(t), t), t, 0),0)\n",
    "L0"
   ]
  },
  {
   "cell_type": "markdown",
   "id": "197f54d6",
   "metadata": {},
   "source": [
    "#### 3. solve for the lapace transform of the solution function"
   ]
  },
  {
   "cell_type": "markdown",
   "id": "9426bb18",
   "metadata": {},
   "source": [
    "The third step is to solve the resulting equation for the symbol ${\\cal L}\\{x(t)\\}$"
   ]
  },
  {
   "cell_type": "code",
   "execution_count": 8,
   "id": "260c8597",
   "metadata": {},
   "outputs": [
    {
     "data": {
      "text/plain": [
       "[(s**3 + 3*s**2 + 4*s + 14)/(s**4 + 3*s**3 + 8*s**2 + 12*s + 16)]"
      ]
     },
     "execution_count": 8,
     "metadata": {},
     "output_type": "execute_result"
    }
   ],
   "source": [
    "Lx=solve(L0,LaplaceTransform(x(t),t,s))\n",
    "Lx"
   ]
  },
  {
   "cell_type": "markdown",
   "id": "aaa97bc7",
   "metadata": {},
   "source": [
    "#### 4. look up the laplace transform to determine the solution"
   ]
  },
  {
   "cell_type": "markdown",
   "id": "48f94810",
   "metadata": {},
   "source": [
    "The fourth and final step is to \"look up\" that complicated expression in the variable $s$ to determine the function of $t$ with that Laplace transform. The built-in sympy funtion `inverse_laplace_transform()` works fine for that, with the slight annoyance that it doesn't align perfectly with the list format of output from `solve()`.  So I've included in  MATH280 a little wrapper called `laplaceInv()` that extracts the zeroth entry from that list. **I've noticed that this step can run really slowly.**"
   ]
  },
  {
   "cell_type": "code",
   "execution_count": 9,
   "id": "34176b5c",
   "metadata": {
    "scrolled": true
   },
   "outputs": [
    {
     "data": {
      "text/latex": [
       "$\\displaystyle - \\frac{\\cos{\\left(2 t \\right)} \\theta\\left(t\\right)}{6} + \\frac{\\sqrt{7} e^{- \\frac{3 t}{2}} \\sin{\\left(\\frac{\\sqrt{7} t}{2} \\right)} \\theta\\left(t\\right)}{2} + \\frac{7 e^{- \\frac{3 t}{2}} \\cos{\\left(\\frac{\\sqrt{7} t}{2} \\right)} \\theta\\left(t\\right)}{6}$"
      ],
      "text/plain": [
       "-cos(2*t)*Heaviside(t)/6 + sqrt(7)*exp(-3*t/2)*sin(sqrt(7)*t/2)*Heaviside(t)/2 + 7*exp(-3*t/2)*cos(sqrt(7)*t/2)*Heaviside(t)/6"
      ]
     },
     "execution_count": 9,
     "metadata": {},
     "output_type": "execute_result"
    }
   ],
   "source": [
    "sol = MATH280.laplaceInv(Lx,s,t)\n",
    "sol"
   ]
  },
  {
   "cell_type": "markdown",
   "id": "12baa4ec",
   "metadata": {},
   "source": [
    "Something to notice is that every term as a $\\theta(t)$.  That's the unit step function:  $\\theta(t)=1$ if $t\\gt 0$ and otherwise zero.  Seems to be enforcing the assumption that our solution only makes sense for nonnegative time $t$.\n",
    "\n",
    "We can plot the solution with sympy plot:"
   ]
  },
  {
   "cell_type": "code",
   "execution_count": 10,
   "id": "ac8a6bc4",
   "metadata": {},
   "outputs": [
    {
     "data": {
      "image/png": "[encoded data removed]",
      "text/plain": [
       "<Figure size 432x288 with 1 Axes>"
      ]
     },
     "metadata": {
      "needs_background": "light"
     },
     "output_type": "display_data"
    },
    {
     "data": {
      "text/plain": [
       "<sympy.plotting.plot.Plot at 0x281ffe4ac20>"
      ]
     },
     "execution_count": 10,
     "metadata": {},
     "output_type": "execute_result"
    }
   ],
   "source": [
    "plot(sol,(t,0,20))"
   ]
  },
  {
   "cell_type": "markdown",
   "id": "a30e63c5",
   "metadata": {},
   "source": [
    "And just in case there was any doubt, we notice that `dsolve()` produces the same solution."
   ]
  },
  {
   "cell_type": "code",
   "execution_count": 11,
   "id": "ac7a5072",
   "metadata": {},
   "outputs": [
    {
     "data": {
      "text/latex": [
       "$\\displaystyle x{\\left(t \\right)} = \\left(\\frac{\\sqrt{7} \\sin{\\left(\\frac{\\sqrt{7} t}{2} \\right)}}{2} + \\frac{7 \\cos{\\left(\\frac{\\sqrt{7} t}{2} \\right)}}{6}\\right) e^{- \\frac{3 t}{2}} - \\frac{\\cos{\\left(2 t \\right)}}{6}$"
      ],
      "text/plain": [
       "Eq(x(t), (sqrt(7)*sin(sqrt(7)*t/2)/2 + 7*cos(sqrt(7)*t/2)/6)*exp(-3*t/2) - cos(2*t)/6)"
      ]
     },
     "execution_count": 11,
     "metadata": {},
     "output_type": "execute_result"
    }
   ],
   "source": [
    "dsolve(ode,x(t),ics={x(0):1, x(t).diff(t).subs(t,0):0})"
   ]
  },
  {
   "cell_type": "markdown",
   "id": "d2afe4af",
   "metadata": {},
   "source": [
    "## Discontinuous Forcing Functions"
   ]
  },
  {
   "cell_type": "markdown",
   "id": "bd22d6ba",
   "metadata": {},
   "source": [
    "We haven't yet explored what I think is *the* reason to consider Laplace Transforms in the first place:  discontinuous forcing functions.  "
   ]
  },
  {
   "cell_type": "markdown",
   "id": "bbb1bc7f",
   "metadata": {},
   "source": [
    "### A first-order model with a square wave switch function"
   ]
  },
  {
   "cell_type": "markdown",
   "id": "b968386a",
   "metadata": {},
   "source": [
    "Suppose we model a capacitor with an external voltage source that switches on at $t=2$ and off at $t=5$.  \n",
    "The equation, in some idealized units, could be\n",
    "$$\\dot{x} - x = \\theta(t-2) - \\theta(t-5), \\;\\;\\;\\;\\;  x(0)=0 $$\n",
    "where $\\theta(t-a)$ is the Heaviside unit step function that turns on at $t=a$."
   ]
  },
  {
   "cell_type": "code",
   "execution_count": 12,
   "id": "1a45e3bc",
   "metadata": {},
   "outputs": [
    {
     "data": {
      "text/latex": [
       "$\\displaystyle x{\\left(t \\right)} + \\frac{d}{d t} x{\\left(t \\right)} = - \\theta\\left(t - 5\\right) + \\theta\\left(t - 2\\right)$"
      ],
      "text/plain": [
       "Eq(x(t) + Derivative(x(t), t), -Heaviside(t - 5) + Heaviside(t - 2))"
      ]
     },
     "execution_count": 12,
     "metadata": {},
     "output_type": "execute_result"
    }
   ],
   "source": [
    "capmodel = Eq(x(t).diff(t)+x(t), Heaviside(t-2)-Heaviside(t-5))\n",
    "capmodel"
   ]
  },
  {
   "cell_type": "markdown",
   "id": "a7b3cb03",
   "metadata": {},
   "source": [
    "We'll complete the four steps as in the previous example:  "
   ]
  },
  {
   "cell_type": "code",
   "execution_count": 13,
   "id": "34593726",
   "metadata": {},
   "outputs": [
    {
     "data": {
      "text/latex": [
       "$\\displaystyle s \\mathcal{L}_{t}\\left[x{\\left(t \\right)}\\right]\\left(s\\right) + \\mathcal{L}_{t}\\left[x{\\left(t \\right)}\\right]\\left(s\\right) - x{\\left(0 \\right)} = \\frac{e^{- 2 s}}{s} - \\frac{e^{- 5 s}}{s}$"
      ],
      "text/plain": [
       "Eq(s*LaplaceTransform(x(t), t, s) + LaplaceTransform(x(t), t, s) - x(0), exp(-2*s)/s - exp(-5*s)/s)"
      ]
     },
     "execution_count": 13,
     "metadata": {},
     "output_type": "execute_result"
    }
   ],
   "source": [
    "L=MATH280.laplace(capmodel,t,s)\n",
    "L"
   ]
  },
  {
   "cell_type": "code",
   "execution_count": 14,
   "id": "3eba5d18",
   "metadata": {},
   "outputs": [
    {
     "data": {
      "text/latex": [
       "$\\displaystyle s \\mathcal{L}_{t}\\left[x{\\left(t \\right)}\\right]\\left(s\\right) + \\mathcal{L}_{t}\\left[x{\\left(t \\right)}\\right]\\left(s\\right) = \\frac{e^{- 2 s}}{s} - \\frac{e^{- 5 s}}{s}$"
      ],
      "text/plain": [
       "Eq(s*LaplaceTransform(x(t), t, s) + LaplaceTransform(x(t), t, s), exp(-2*s)/s - exp(-5*s)/s)"
      ]
     },
     "execution_count": 14,
     "metadata": {},
     "output_type": "execute_result"
    }
   ],
   "source": [
    "L0=L.subs(x(0),0)\n",
    "L0"
   ]
  },
  {
   "cell_type": "code",
   "execution_count": 15,
   "id": "d82e5b3a",
   "metadata": {},
   "outputs": [
    {
     "data": {
      "text/plain": [
       "[(exp(3*s) - 1)*exp(-5*s)/(s*(s + 1))]"
      ]
     },
     "execution_count": 15,
     "metadata": {},
     "output_type": "execute_result"
    }
   ],
   "source": [
    "Ls=solve(L0,LaplaceTransform(x(t),t,s))\n",
    "Ls"
   ]
  },
  {
   "cell_type": "code",
   "execution_count": 16,
   "id": "deeb74f0",
   "metadata": {},
   "outputs": [
    {
     "data": {
      "text/latex": [
       "$\\displaystyle - \\theta\\left(t - 5\\right) + \\theta\\left(t - 2\\right) + e^{5} e^{- t} \\theta\\left(t - 5\\right) - e^{2} e^{- t} \\theta\\left(t - 2\\right)$"
      ],
      "text/plain": [
       "-Heaviside(t - 5) + Heaviside(t - 2) + exp(5)*exp(-t)*Heaviside(t - 5) - exp(2)*exp(-t)*Heaviside(t - 2)"
      ]
     },
     "execution_count": 16,
     "metadata": {},
     "output_type": "execute_result"
    }
   ],
   "source": [
    "capsol=MATH280.laplaceInv(Ls,s,t)\n",
    "capsol"
   ]
  },
  {
   "cell_type": "markdown",
   "id": "89227fdd",
   "metadata": {},
   "source": [
    "The functional form of the solution looks a little opaque, so lets make a plot of the solution together with the right hand side function:"
   ]
  },
  {
   "cell_type": "code",
   "execution_count": 17,
   "id": "3759b080",
   "metadata": {},
   "outputs": [
    {
     "data": {
      "image/png": "[encoded data removed]",
      "text/plain": [
       "<Figure size 432x288 with 1 Axes>"
      ]
     },
     "metadata": {
      "needs_background": "light"
     },
     "output_type": "display_data"
    },
    {
     "data": {
      "text/plain": [
       "<sympy.plotting.plot.Plot at 0x281ff84bbb0>"
      ]
     },
     "execution_count": 17,
     "metadata": {},
     "output_type": "execute_result"
    }
   ],
   "source": [
    "plot(capsol,\n",
    "     Heaviside(t-2)-Heaviside(t-5),\n",
    "    (t,0,15),)"
   ]
  },
  {
   "cell_type": "markdown",
   "id": "4f24d058",
   "metadata": {},
   "source": [
    "### A second-order example with a delta function"
   ]
  },
  {
   "cell_type": "markdown",
   "id": "82d72620",
   "metadata": {},
   "source": [
    "Here's an example from the undergraduate ODE textbook by Blanchard, Devaney and Hall:\n",
    "$$\\ddot{x} +2\\dot{x}+3x= \\delta(t-1)+3\\delta(t-4), \\;\\;\\;\\;\\; x(0)=0, \\dot{x}(0)=0$$"
   ]
  },
  {
   "cell_type": "code",
   "execution_count": 20,
   "id": "06b94539",
   "metadata": {},
   "outputs": [
    {
     "data": {
      "text/latex": [
       "$\\displaystyle 3 x{\\left(t \\right)} + 2 \\frac{d}{d t} x{\\left(t \\right)} + \\frac{d^{2}}{d t^{2}} x{\\left(t \\right)} = 3 \\delta\\left(t - 4\\right) + \\delta\\left(t - 1\\right)$"
      ],
      "text/plain": [
       "Eq(3*x(t) + 2*Derivative(x(t), t) + Derivative(x(t), (t, 2)), 3*DiracDelta(t - 4) + DiracDelta(t - 1))"
      ]
     },
     "execution_count": 20,
     "metadata": {},
     "output_type": "execute_result"
    }
   ],
   "source": [
    "ode2 = Eq(x(t).diff(t,2)+2*x(t).diff(t)+3*x(t),DiracDelta(t-1)+3*DiracDelta(t-4))\n",
    "ode2"
   ]
  },
  {
   "cell_type": "code",
   "execution_count": 23,
   "id": "9f05d363",
   "metadata": {},
   "outputs": [
    {
     "data": {
      "text/latex": [
       "$\\displaystyle s^{2} \\mathcal{L}_{t}\\left[x{\\left(t \\right)}\\right]\\left(s\\right) + 2 s \\mathcal{L}_{t}\\left[x{\\left(t \\right)}\\right]\\left(s\\right) - s x{\\left(0 \\right)} + 3 \\mathcal{L}_{t}\\left[x{\\left(t \\right)}\\right]\\left(s\\right) - 2 x{\\left(0 \\right)} - \\left. \\frac{d}{d t} x{\\left(t \\right)} \\right|_{\\substack{ t=0 }} = e^{- s} + 3 e^{- 4 s}$"
      ],
      "text/plain": [
       "Eq(s**2*LaplaceTransform(x(t), t, s) + 2*s*LaplaceTransform(x(t), t, s) - s*x(0) + 3*LaplaceTransform(x(t), t, s) - 2*x(0) - Subs(Derivative(x(t), t), t, 0), exp(-s) + 3*exp(-4*s))"
      ]
     },
     "execution_count": 23,
     "metadata": {},
     "output_type": "execute_result"
    }
   ],
   "source": [
    "L=MATH280.laplace(ode2,t,s)\n",
    "L"
   ]
  },
  {
   "cell_type": "code",
   "execution_count": 26,
   "id": "df2601fe",
   "metadata": {},
   "outputs": [
    {
     "data": {
      "text/latex": [
       "$\\displaystyle s^{2} \\mathcal{L}_{t}\\left[x{\\left(t \\right)}\\right]\\left(s\\right) + 2 s \\mathcal{L}_{t}\\left[x{\\left(t \\right)}\\right]\\left(s\\right) + 3 \\mathcal{L}_{t}\\left[x{\\left(t \\right)}\\right]\\left(s\\right) = e^{- s} + 3 e^{- 4 s}$"
      ],
      "text/plain": [
       "Eq(s**2*LaplaceTransform(x(t), t, s) + 2*s*LaplaceTransform(x(t), t, s) + 3*LaplaceTransform(x(t), t, s), exp(-s) + 3*exp(-4*s))"
      ]
     },
     "execution_count": 26,
     "metadata": {},
     "output_type": "execute_result"
    }
   ],
   "source": [
    "Ls=L.subs(x(0),0).subs(Subs(Derivative(x(t), t), t, 0),0)\n",
    "Ls"
   ]
  },
  {
   "cell_type": "code",
   "execution_count": 28,
   "id": "4431abcf",
   "metadata": {},
   "outputs": [
    {
     "data": {
      "text/plain": [
       "[(exp(3*s) + 3)*exp(-4*s)/(s**2 + 2*s + 3)]"
      ]
     },
     "execution_count": 28,
     "metadata": {},
     "output_type": "execute_result"
    }
   ],
   "source": [
    "Lx=solve(Ls,LaplaceTransform(x(t),t,s))\n",
    "Lx"
   ]
  },
  {
   "cell_type": "code",
   "execution_count": 31,
   "id": "e2d60cec",
   "metadata": {},
   "outputs": [
    {
     "data": {
      "text/latex": [
       "$\\displaystyle \\frac{3 \\sqrt{2} e^{4} e^{- t} \\sin{\\left(\\sqrt{2} t \\right)} \\cos{\\left(4 \\sqrt{2} \\right)} \\theta\\left(t - 4\\right)}{2} + \\frac{\\sqrt{2} e e^{- t} \\sin{\\left(\\sqrt{2} t - \\sqrt{2} \\right)} \\theta\\left(t - 1\\right)}{2} - \\frac{3 \\sqrt{2} e^{4} e^{- t} \\sin{\\left(4 \\sqrt{2} \\right)} \\cos{\\left(\\sqrt{2} t \\right)} \\theta\\left(t - 4\\right)}{2}$"
      ],
      "text/plain": [
       "3*sqrt(2)*exp(4)*exp(-t)*sin(sqrt(2)*t)*cos(4*sqrt(2))*Heaviside(t - 4)/2 + sqrt(2)*E*exp(-t)*sin(sqrt(2)*t - sqrt(2))*Heaviside(t - 1)/2 - 3*sqrt(2)*exp(4)*exp(-t)*sin(4*sqrt(2))*cos(sqrt(2)*t)*Heaviside(t - 4)/2"
      ]
     },
     "execution_count": 31,
     "metadata": {},
     "output_type": "execute_result"
    }
   ],
   "source": [
    "sol2 = MATH280.laplaceInv(Lx,s,t)\n",
    "sol2"
   ]
  },
  {
   "cell_type": "code",
   "execution_count": 32,
   "id": "3c6c6a58",
   "metadata": {},
   "outputs": [
    {
     "data": {
      "image/png": "[encoded data removed]",
      "text/plain": [
       "<Figure size 432x288 with 1 Axes>"
      ]
     },
     "metadata": {
      "needs_background": "light"
     },
     "output_type": "display_data"
    },
    {
     "data": {
      "text/plain": [
       "<sympy.plotting.plot.Plot at 0x281ff84bfa0>"
      ]
     },
     "execution_count": 32,
     "metadata": {},
     "output_type": "execute_result"
    }
   ],
   "source": [
    "plot(sol2,(t,0,20))"
   ]
  },
  {
   "cell_type": "markdown",
   "id": "81d69418",
   "metadata": {},
   "source": [
    "We can see in the plot above how the impulse at $t=1$ and $t=4$ re-energizes the system."
   ]
  },
  {
   "cell_type": "code",
   "execution_count": null,
   "id": "4afbd45f",
   "metadata": {},
   "outputs": [],
   "source": []
  }
 ],
 "metadata": {
  "kernelspec": {
   "display_name": "Python 3 (ipykernel)",
   "language": "python",
   "name": "python3"
  },
  "language_info": {
   "codemirror_mode": {
    "name": "ipython",
    "version": 3
   },
   "file_extension": ".py",
   "mimetype": "text/x-python",
   "name": "python",
   "nbconvert_exporter": "python",
   "pygments_lexer": "ipython3",
   "version": "3.10.2"
  }
 },
 "nbformat": 4,
 "nbformat_minor": 5
}
